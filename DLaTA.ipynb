{
 "cells": [
  {
   "cell_type": "markdown",
   "metadata": {},
   "source": [
    "# A Deep Learning-assisted Template Attack Against Dynamic Frequency Scaling Countermeasures"
   ]
  },
  {
   "cell_type": "code",
   "execution_count": 5,
   "metadata": {},
   "outputs": [],
   "source": [
    "import numpy as np\n",
    "import h5py\n",
    "\n",
    "from CNN.train import train\n",
    "from CNN.prepare_dataset import createDataset\n",
    "from utils.segmentation import getModule, segmentAlignGradCAM, segmentAlignGT\n",
    "from templateAttack import TemplateAttack"
   ]
  },
  {
   "cell_type": "markdown",
   "metadata": {},
   "source": [
    "## CNN dataset creation"
   ]
  },
  {
   "cell_type": "code",
   "execution_count": null,
   "metadata": {},
   "outputs": [],
   "source": [
    "DFS_DESYNCH_path = \"</path/to/DFS_DESYNCH/folder>\"\n",
    "dataset_out_path = \"</path/to/output/folder>\""
   ]
  },
  {
   "cell_type": "code",
   "execution_count": null,
   "metadata": {},
   "outputs": [],
   "source": [
    "createDataset(DFS_DESYNCH_path, dataset_out_path)"
   ]
  },
  {
   "cell_type": "markdown",
   "metadata": {},
   "source": [
    "## CNN training"
   ]
  },
  {
   "cell_type": "markdown",
   "metadata": {},
   "source": [
    "Each CNN is configure thanks to a YALM configuration file.  \n",
    "You can set different module hyper-parameters as well as the dataset, the logger, and the experiment configurations.  \n",
    "Default configuration are in `CNN/configs` directory, both for Neputune logger and for the experiment. "
   ]
  },
  {
   "cell_type": "code",
   "execution_count": null,
   "metadata": {},
   "outputs": [],
   "source": [
    "config_folder = \"CNN/configs/exp_v1/\" # /path/to/experiment/config/folder/\n",
    "train(config_folder)"
   ]
  },
  {
   "cell_type": "markdown",
   "metadata": {},
   "source": [
    "## Segmentation"
   ]
  },
  {
   "cell_type": "code",
   "execution_count": null,
   "metadata": {},
   "outputs": [],
   "source": [
    "output_path = \"</path/to/output_file>\"\n",
    "DFS_DESYNCH_path = \"</path/to/DFS_DESYNCH>\"\n",
    "SID = \"<Neptune_SID>\""
   ]
  },
  {
   "cell_type": "markdown",
   "metadata": {},
   "source": [
    "Firt, get the trained CNN starting from Neptune SID.  \n",
    "Then, align attack traces to reference frequency exploiting Grad-CAM."
   ]
  },
  {
   "cell_type": "code",
   "execution_count": null,
   "metadata": {},
   "outputs": [],
   "source": [
    "module = getModule(SID)\n",
    "with h5py.File(DFS_DESYNCH_path, 'r') as dfs_desynch:\n",
    "    traces = dfs_desynch['attack/traces']\n",
    "    segmentAlignGradCAM(traces, module, output_path, force=True)"
   ]
  },
  {
   "cell_type": "markdown",
   "metadata": {},
   "source": [
    "## Template Attack"
   ]
  },
  {
   "cell_type": "code",
   "execution_count": null,
   "metadata": {},
   "outputs": [],
   "source": [
    "profiling_aligned_path = \"</path/to/aligned/output/path>\"\n",
    "DFS_DESYNCH_path = \"</path/to/DFS_DESYNCH>\"\n",
    "template_path = \"</path/to/save/template>\""
   ]
  },
  {
   "cell_type": "markdown",
   "metadata": {},
   "source": [
    "Align profiling traces to a reference frequency."
   ]
  },
  {
   "cell_type": "code",
   "execution_count": null,
   "metadata": {},
   "outputs": [],
   "source": [
    "with h5py.File(DFS_DESYNCH_path, 'r') as dfs_desynch:\n",
    "    traces = dfs_desynch['profiling/traces']\n",
    "    frequencies = dfs_desynch['profiling/labels']\n",
    "            \n",
    "    segmentAlignGT(traces, frequencies, profiling_aligned_path, force=True)"
   ]
  },
  {
   "cell_type": "markdown",
   "metadata": {},
   "source": [
    "Create a template for attacking."
   ]
  },
  {
   "cell_type": "code",
   "execution_count": null,
   "metadata": {},
   "outputs": [],
   "source": [
    "traces = np.load(profiling_aligned_path, mmap_mode='r')\n",
    "with h5py.File(DFS_DESYNCH_path, 'r') as dfs_desynch:\n",
    "    keys = dfs_desynch['profiling/metadata']['key']\n",
    "    plaintexts = dfs_desynch['profiling/metadata']['plaintext']\n",
    "\n",
    "ta = TemplateAttack(template_path, aggregate_n_samples=100)\n",
    "ta.computePCA(traces, plaintexts, keys)\n",
    "ta.fit(traces, plaintexts, keys)"
   ]
  },
  {
   "cell_type": "markdown",
   "metadata": {},
   "source": [
    "Load attack metadata and traces already aligned through Grad-CAM."
   ]
  },
  {
   "cell_type": "code",
   "execution_count": null,
   "metadata": {},
   "outputs": [],
   "source": [
    "attack_aligned_file = \"</path/to/aligned/output/file>\"\n",
    "\n",
    "traces = np.load(attack_aligned_file, mmap_mode='r')\n",
    "with h5py.File(DFS_DESYNCH_path, 'r') as dfs_desynch:\n",
    "    keys = dfs_desynch['attack/metadata']['key']\n",
    "    plaintexts = dfs_desynch['attack/metadata']['plaintext']"
   ]
  },
  {
   "cell_type": "code",
   "execution_count": null,
   "metadata": {},
   "outputs": [],
   "source": [
    "ge, gd, ranks = ta.guessingMetrics(traces, plaintexts, keys)\n",
    "print(f\"Guessing distance: {gd}, Guessing entropy: {ge}\")"
   ]
  }
 ],
 "metadata": {
  "kernelspec": {
   "display_name": "Python 3",
   "language": "python",
   "name": "python3"
  },
  "language_info": {
   "codemirror_mode": {
    "name": "ipython",
    "version": 3
   },
   "file_extension": ".py",
   "mimetype": "text/x-python",
   "name": "python",
   "nbconvert_exporter": "python",
   "pygments_lexer": "ipython3",
   "version": "3.11.7"
  }
 },
 "nbformat": 4,
 "nbformat_minor": 2
}
